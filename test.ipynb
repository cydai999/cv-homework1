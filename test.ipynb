{
 "cells": [
  {
   "metadata": {
    "ExecuteTime": {
     "end_time": "2025-04-05T04:02:57.845799Z",
     "start_time": "2025-04-05T04:02:57.840688Z"
    }
   },
   "cell_type": "code",
   "source": [
    "import pickle\n",
    "import os"
   ],
   "id": "bda70ad63890cfb4",
   "outputs": [],
   "execution_count": 1
  },
  {
   "metadata": {
    "collapsed": true,
    "ExecuteTime": {
     "end_time": "2025-04-05T04:07:31.855650Z",
     "start_time": "2025-04-05T04:07:31.818051Z"
    }
   },
   "cell_type": "code",
   "source": [
    "dataset_dir = './dataset/cifar-10-python/cifar-10-batches-py'\n",
    "train_path_1 = os.path.join(dataset_dir, 'data_batch_1')\n",
    "with open(train_path_1, 'rb') as train_path_1:\n",
    "    dict = pickle.load(train_path_1, encoding='bytes')\n",
    "dict.keys()"
   ],
   "id": "initial_id",
   "outputs": [
    {
     "data": {
      "text/plain": [
       "dict_keys([b'batch_label', b'labels', b'data', b'filenames'])"
      ]
     },
     "execution_count": 6,
     "metadata": {},
     "output_type": "execute_result"
    }
   ],
   "execution_count": 6
  },
  {
   "metadata": {},
   "cell_type": "code",
   "outputs": [],
   "execution_count": null,
   "source": "",
   "id": "95ae7eb1e0318d4a"
  }
 ],
 "metadata": {
  "kernelspec": {
   "display_name": "Python 3",
   "language": "python",
   "name": "python3"
  },
  "language_info": {
   "codemirror_mode": {
    "name": "ipython",
    "version": 2
   },
   "file_extension": ".py",
   "mimetype": "text/x-python",
   "name": "python",
   "nbconvert_exporter": "python",
   "pygments_lexer": "ipython2",
   "version": "2.7.6"
  }
 },
 "nbformat": 4,
 "nbformat_minor": 5
}
